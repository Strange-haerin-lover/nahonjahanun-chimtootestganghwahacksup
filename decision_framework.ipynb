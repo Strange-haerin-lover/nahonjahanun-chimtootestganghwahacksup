{
 "cells": [
  {
   "cell_type": "code",
   "execution_count": null,
   "id": "7e359f48",
   "metadata": {},
   "outputs": [],
   "source": [
    "def flag_reward():\n",
    "    if FLAG == True:\n",
    "        return 1000000000000000"
   ]
  },
  {
   "cell_type": "code",
   "execution_count": null,
   "id": "dc02a826",
   "metadata": {},
   "outputs": [],
   "source": [
    "def error_reward():\n",
    "    return"
   ]
  },
  {
   "cell_type": "code",
   "execution_count": null,
   "id": "c9fcbb78",
   "metadata": {},
   "outputs": [],
   "source": [
    "def "
   ]
  }
 ],
 "metadata": {
  "language_info": {
   "name": "python"
  }
 },
 "nbformat": 4,
 "nbformat_minor": 5
}
